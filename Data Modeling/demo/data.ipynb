{
 "cells": [
  {
   "cell_type": "code",
   "execution_count": 4,
   "id": "48c0bd3d-22bc-4be2-a8f1-ca2f489d230a",
   "metadata": {},
   "outputs": [],
   "source": [
    "from pycoingecko import CoinGeckoAPI\n",
    "import numpy as np\n",
    "import sqlite3\n",
    "from tqdm import tqdm\n",
    "import datetime \n",
    "import time\n",
    "from urllib.error import HTTPError\n",
    "import random\n",
    "import pandas as pd"
   ]
  },
  {
   "cell_type": "code",
   "execution_count": 2,
   "id": "0dbc78c9-8698-4bfe-beb5-daa091fdd9c6",
   "metadata": {},
   "outputs": [],
   "source": [
    "cg = CoinGeckoAPI()"
   ]
  },
  {
   "cell_type": "markdown",
   "id": "1f0f67ae-6311-4b58-b581-acccc8ec5dc1",
   "metadata": {},
   "source": [
    "### Get coin data"
   ]
  },
  {
   "cell_type": "code",
   "execution_count": null,
   "id": "3ac268c7-18f6-4071-bb78-94c5ef105d6a",
   "metadata": {},
   "outputs": [],
   "source": [
    "coins_markets = []\n",
    "for page in tqdm(range(100)):\n",
    "    results = cg.get_coins_markets(vs_currency='usd', per_page=250, page=page, order='id_asc')\n",
    "    if len(results) > 0:\n",
    "        coins_markets += results\n",
    "    else:\n",
    "        break"
   ]
  },
  {
   "cell_type": "markdown",
   "id": "46341bc3-a707-4da5-880f-d2ded761e6dc",
   "metadata": {},
   "source": [
    "### Insert to Coins"
   ]
  },
  {
   "cell_type": "code",
   "execution_count": null,
   "id": "5dce9dfd-12d4-47b4-9c57-655842df5003",
   "metadata": {},
   "outputs": [],
   "source": [
    "conn = sqlite3.connect('crypto.sqlite3')\n",
    "cursor = conn.cursor()\n",
    "\n",
    "for coin in coins_markets:\n",
    "    id = coin['id']\n",
    "    symbol = coin['symbol']\n",
    "    name = coin['name']\n",
    "    current_price = coin['current_price']\n",
    "    market_cap = coin['market_cap']\n",
    "    total_volume = coin['total_volume']\n",
    "    circulating_supply = coin['circulating_supply']\n",
    "    last_updated = coin['last_updated']\n",
    "    try:\n",
    "        insert_coin_query = f\"\"\"INSERT INTO Coins(id, name, symbol, price, volume, marketcap, circulatingsupply, date) \n",
    "                VALUES ('{id}','{name}','{symbol}',{current_price},{total_volume}, {market_cap}, {circulating_supply}, '{last_updated.split('T')[0]}')\"\"\"\n",
    "        cursor.execute(insert_coin_query)\n",
    "    except:\n",
    "        pass\n",
    "\n",
    "conn.commit()\n",
    "cursor.close()"
   ]
  },
  {
   "cell_type": "markdown",
   "id": "e598527e-ea60-44da-906a-826413ac30e2",
   "metadata": {},
   "source": [
    "### Get coin id in database"
   ]
  },
  {
   "cell_type": "code",
   "execution_count": 33,
   "id": "88181731-b016-4bac-bef8-ccaaa7b5cd28",
   "metadata": {},
   "outputs": [],
   "source": [
    "conn = sqlite3.connect('crypto.sqlite3')\n",
    "cursor = conn.cursor()\n",
    "insert_coin_query = \"SELECT id from Coins\"\n",
    "coins_id = cursor.execute(insert_coin_query)\n",
    "coins_id = coins_id.fetchall()\n",
    "cursor.close()\n",
    "conn.close()"
   ]
  },
  {
   "cell_type": "markdown",
   "id": "f65ea8cc-5c23-406f-98fc-419baa7f95bf",
   "metadata": {},
   "source": [
    "### Get history data"
   ]
  },
  {
   "cell_type": "code",
   "execution_count": null,
   "id": "841484a2-7f68-4d96-a6ed-57bca217f13b",
   "metadata": {},
   "outputs": [],
   "source": [
    "i = 0\n",
    "history = []\n",
    "coins = []"
   ]
  },
  {
   "cell_type": "code",
   "execution_count": null,
   "id": "f1ff57bb-5156-4006-826a-002e5b533c3b",
   "metadata": {},
   "outputs": [],
   "source": [
    "while True:\n",
    "    try:\n",
    "        for coin in coins_id[i:]:\n",
    "            try:\n",
    "                coin_market_chart = cg.get_coin_market_chart_by_id(coin[0], vs_currency='usd', days='max')\n",
    "            except ValueError:\n",
    "                pass\n",
    "\n",
    "            prices = np.array(coin_market_chart['prices'])[:, 1][::-1]\n",
    "            market_caps = np.array(coin_market_chart['market_caps'])[:, 1][::-1]\n",
    "            total_volumes = np.array(coin_market_chart['total_volumes'])[:, 1][::-1]\n",
    "            history.append((prices, total_volumes, market_caps))\n",
    "            coins.append(coin)\n",
    "            if i % 100 == 0:\n",
    "                print(i)\n",
    "            i += 1\n",
    "    except Exception:\n",
    "        print(len(history))\n",
    "        time.sleep(10)"
   ]
  },
  {
   "cell_type": "markdown",
   "id": "0c2b1dc0-bb68-462c-94c9-083bf81046d2",
   "metadata": {},
   "source": [
    "### Insert to CoinHistory"
   ]
  },
  {
   "cell_type": "code",
   "execution_count": null,
   "id": "bf434736-8182-487b-b993-cfb047e8ceb9",
   "metadata": {},
   "outputs": [],
   "source": [
    "conn = sqlite3.connect('crypto.sqlite3')\n",
    "cursor = conn.cursor()\n",
    "\n",
    "one_day = datetime.timedelta(days=1)\n",
    "for (prices, total_volumes, market_caps), coin_id in zip(history, coins):\n",
    "    date = datetime.datetime.now()\n",
    "    for price, volume, marketcap in zip(prices, total_volumes, market_caps):\n",
    "        try:\n",
    "            insert_coin_query = f\"\"\"INSERT INTO CoinHistory(id, date, price, volume, marketcap) \n",
    "                        VALUES ('{coin_id[0]}','{date.date()}',{price},{volume},{marketcap})\"\"\"\n",
    "            cursor.execute(insert_coin_query)\n",
    "            date = date - one_day\n",
    "        except:\n",
    "            pass\n",
    "\n",
    "conn.commit()\n",
    "cursor.close()"
   ]
  },
  {
   "cell_type": "markdown",
   "id": "6f620d6f-f7c8-4ae5-88ae-a1ad504d004f",
   "metadata": {
    "tags": []
   },
   "source": [
    "### Random Transactions\n",
    "\n",
    "1. ID: Auto\n",
    "2. Category ID:\n",
    "    - 1: Trade\n",
    "    - [2, 9]: Incoming\n",
    "    - [10, 16]: Outgoing\n",
    "3. InCoinID, OutCoinID, FeeCoinID: coins_id\n",
    "4. InQty, OutQty: 0.01 -> 10000\n",
    "5. FeeQty: 0.01 -> 10\n",
    "6. Date: 1/1/2021 -> 1/1/2022"
   ]
  },
  {
   "cell_type": "code",
   "execution_count": 141,
   "id": "228a2e74-e118-42e0-b466-3e7153800363",
   "metadata": {},
   "outputs": [],
   "source": [
    "def random_date():\n",
    "    start = datetime.datetime(2021, 1, 1)\n",
    "    end = datetime.datetime(2022, 1, 1)\n",
    "    delta = end - start\n",
    "    int_delta = (delta.days * 24 * 60 * 60) + delta.seconds\n",
    "    random_second = random.randrange(int_delta)\n",
    "    dt = start + datetime.timedelta(seconds=random_second)\n",
    "    return dt.date()"
   ]
  },
  {
   "cell_type": "code",
   "execution_count": 245,
   "id": "da7342a0-01d2-40f7-a398-1090193a14b8",
   "metadata": {},
   "outputs": [],
   "source": [
    "conn = sqlite3.connect('crypto.sqlite3')\n",
    "cursor = conn.cursor()\n",
    "\n",
    "for i in range(100000):\n",
    "    category_id = random.randint(1, 16)\n",
    "    date = random_date()\n",
    "    InCoinID = random.choice(coins_id)[0]\n",
    "    OutCoinID = random.choice(coins_id)[0]\n",
    "    FeeCoinID = InCoinID\n",
    "    InQty = random.random() * random.randint(1, 10000)\n",
    "    OutQty = random.random() * random.randint(1, 10000)\n",
    "    FeeQty = random.random() * InQty / 100\n",
    "    if category_id == 1:\n",
    "        insert_coin_query = f\"\"\"INSERT INTO Transactions(categoryid, date, incoinid, inqty, outcoinid, outqty, feecoinid, feeqty) \n",
    "                        VALUES ({category_id},'{date}','{InCoinID}',{InQty},'{OutCoinID}',{OutQty},'{FeeCoinID}',{FeeQty})\"\"\"\n",
    "    elif category_id >= 2 and category_id <= 9:\n",
    "        insert_coin_query = f\"\"\"INSERT INTO Transactions(categoryid, date, incoinid, inqty, feecoinid, feeqty) \n",
    "                        VALUES ({category_id},'{date}','{InCoinID}',{InQty},'{FeeCoinID}',{FeeQty})\"\"\"\n",
    "    else:\n",
    "        insert_coin_query = f\"\"\"INSERT INTO Transactions(categoryid, date, outcoinid, outqty, feecoinid, feeqty) \n",
    "                        VALUES ({category_id},'{date}','{OutCoinID}',{OutQty},'{FeeCoinID}',{FeeQty})\"\"\"\n",
    "    cursor.execute(insert_coin_query)\n",
    "    \n",
    "conn.commit()\n",
    "cursor.close()"
   ]
  },
  {
   "cell_type": "markdown",
   "id": "df222e8a-b793-45a5-a0fe-6ab7d9c96485",
   "metadata": {},
   "source": [
    "### Random Futures\n",
    "\n",
    "1. ID: Auto\n",
    "2. Coin ID:\n",
    "3. Mode: [Isolated, Cross]\n",
    "4. Type: [LONG, SHORT]\n",
    "5. RR: [1 -> 8]\n",
    "6. Leverage: [1, 125]\n",
    "7. Margin: 1 USD -> 100000 USD\n",
    "8. PNL: Margin * RR * (1, -1)\n",
    "9. Fee: Margin * 0.0005\n",
    "10. Date: 1-1-2021 -> 1-1-2022"
   ]
  },
  {
   "cell_type": "code",
   "execution_count": 246,
   "id": "bc5afec5-6ce3-46f5-b204-e4d70132ed08",
   "metadata": {},
   "outputs": [],
   "source": [
    "def random_date():\n",
    "    start = datetime.datetime(2021, 1, 1)\n",
    "    end = datetime.datetime(2022, 1, 1)\n",
    "    delta = end - start\n",
    "    int_delta = (delta.days * 24 * 60 * 60) + delta.seconds\n",
    "    random_second = random.randrange(int_delta)\n",
    "    dt = start + datetime.timedelta(seconds=random_second)\n",
    "    return dt.date()"
   ]
  },
  {
   "cell_type": "code",
   "execution_count": 454,
   "id": "73407834-1174-4518-bc6d-4c4eb2a11a8d",
   "metadata": {},
   "outputs": [],
   "source": [
    "conn = sqlite3.connect('crypto.sqlite3')\n",
    "cursor = conn.cursor()\n",
    "\n",
    "for i in range(100000):\n",
    "    coinID = random.choice(coins_id)[0]\n",
    "    mode = random.choice(['isolated', 'cross'])\n",
    "    _type = random.choice(['long', 'short'])\n",
    "    RR = random.random() * random.randint(1, 10)\n",
    "    leverage = random.randint(1, 125)\n",
    "    margin = random.randint(1, 100000) # USDT\n",
    "    PNL = random.random() * margin * RR # USDT\n",
    "    fee = margin * 0.0005 # USDT\n",
    "    date = random_date()\n",
    "\n",
    "    insert_coin_query = f\"\"\"INSERT INTO Futures(coinid, mode, type, rr, leverage, margin, pnl, fee, date) \n",
    "                    VALUES ('{coinID}','{mode}','{_type}',{RR},{leverage},{margin},{PNL},{fee}, '{date}')\"\"\"\n",
    "    cursor.execute(insert_coin_query)\n",
    "\n",
    "conn.commit()\n",
    "cursor.close()"
   ]
  }
 ],
 "metadata": {
  "kernelspec": {
   "display_name": "Rectinet",
   "language": "python",
   "name": "rectinet"
  },
  "language_info": {
   "codemirror_mode": {
    "name": "ipython",
    "version": 3
   },
   "file_extension": ".py",
   "mimetype": "text/x-python",
   "name": "python",
   "nbconvert_exporter": "python",
   "pygments_lexer": "ipython3",
   "version": "3.8.5"
  }
 },
 "nbformat": 4,
 "nbformat_minor": 5
}
